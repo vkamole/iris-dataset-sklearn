{
  "nbformat": 4,
  "nbformat_minor": 0,
  "metadata": {
    "colab": {
      "provenance": [],
      "authorship_tag": "ABX9TyPzBGCaaLXFuq+UHO2bxPjF",
      "include_colab_link": true
    },
    "kernelspec": {
      "name": "python3",
      "display_name": "Python 3"
    },
    "language_info": {
      "name": "python"
    }
  },
  "cells": [
    {
      "cell_type": "markdown",
      "metadata": {
        "id": "view-in-github",
        "colab_type": "text"
      },
      "source": [
        "<a href=\"https://colab.research.google.com/github/vkamole/iris-dataset-sklearn/blob/main/nlp_spacy_ner_sentiment.ipynb\" target=\"_parent\"><img src=\"https://colab.research.google.com/assets/colab-badge.svg\" alt=\"Open In Colab\"/></a>"
      ]
    },
    {
      "cell_type": "code",
      "execution_count": 3,
      "metadata": {
        "id": "rlmy5aqfqbzf"
      },
      "outputs": [],
      "source": []
    },
    {
      "cell_type": "code",
      "source": [
        "# Create data folder and sample review file\n",
        "!mkdir -p data\n",
        "\n",
        "with open(\"data/sample_reviews.txt\", \"w\") as f:\n",
        "    f.write(\"\"\"I love the battery life of the Samsung Galaxy S21. Highly recommended!\n",
        "The Apple AirPods Max are overpriced and uncomfortable.\n",
        "I recently bought the Sony WH-1000XM5 and the sound quality is amazing.\n",
        "The Lenovo ThinkPad is decent, but the display isn't sharp.\n",
        "Avoid the cheap knockoffs of JBL speakers. Poor sound quality.\"\"\")\n"
      ],
      "metadata": {
        "id": "5FuVQdzJq_jI"
      },
      "execution_count": 4,
      "outputs": []
    },
    {
      "cell_type": "code",
      "source": [
        "with open(\"data/sample_reviews.txt\", \"r\") as f:\n",
        "    reviews = f.readlines()\n",
        "\n",
        "print(reviews)\n"
      ],
      "metadata": {
        "colab": {
          "base_uri": "https://localhost:8080/"
        },
        "id": "Ao7TPNYZrFVK",
        "outputId": "90d3c2da-3766-4e8e-fb8e-ad03a184b174"
      },
      "execution_count": 5,
      "outputs": [
        {
          "output_type": "stream",
          "name": "stdout",
          "text": [
            "['I love the battery life of the Samsung Galaxy S21. Highly recommended!\\n', 'The Apple AirPods Max are overpriced and uncomfortable.\\n', 'I recently bought the Sony WH-1000XM5 and the sound quality is amazing.\\n', \"The Lenovo ThinkPad is decent, but the display isn't sharp.\\n\", 'Avoid the cheap knockoffs of JBL speakers. Poor sound quality.']\n"
          ]
        }
      ]
    },
    {
      "cell_type": "code",
      "source": [
        "# spaCy NER + Rule-based Sentiment on Product Reviews\n",
        "\n",
        "import spacy\n",
        "import re\n",
        "\n",
        "# Load spaCy English model\n",
        "nlp = spacy.load(\"en_core_web_sm\")\n",
        "\n",
        "# Read reviews\n",
        "with open(\"data/sample_reviews.txt\", \"r\") as f:\n",
        "    reviews = f.readlines()\n",
        "\n",
        "# Keywords for rule-based sentiment\n",
        "positive_keywords = [\"love\", \"recommended\", \"amazing\", \"great\", \"sharp\"]\n",
        "negative_keywords = [\"overpriced\", \"uncomfortable\", \"poor\", \"avoid\", \"isn't\"]\n",
        "\n",
        "def analyze_sentiment(text):\n",
        "    text = text.lower()\n",
        "    pos = any(word in text for word in positive_keywords)\n",
        "    neg = any(word in text for word in negative_keywords)\n",
        "    if pos and not neg:\n",
        "        return \"Positive\"\n",
        "    elif neg and not pos:\n",
        "        return \"Negative\"\n",
        "    elif pos and neg:\n",
        "        return \"Mixed\"\n",
        "    else:\n",
        "        return \"Neutral\"\n",
        "\n",
        "# Process each review\n",
        "for review in reviews:\n",
        "    doc = nlp(review)\n",
        "    print(f\"\\nReview: {review.strip()}\")\n",
        "\n",
        "    # Named Entities\n",
        "    print(\"Named Entities:\")\n",
        "    for ent in doc.ents:\n",
        "        print(f\" - {ent.text} ({ent.label_})\")\n",
        "\n",
        "    # Sentiment\n",
        "    sentiment = analyze_sentiment(review)\n",
        "    print(f\"Sentiment: {sentiment}\")\n"
      ],
      "metadata": {
        "colab": {
          "base_uri": "https://localhost:8080/"
        },
        "id": "nBWIYPS1rf1E",
        "outputId": "55e4a17a-4d92-4269-b92f-b98d5dc66606"
      },
      "execution_count": 6,
      "outputs": [
        {
          "output_type": "stream",
          "name": "stdout",
          "text": [
            "\n",
            "Review: I love the battery life of the Samsung Galaxy S21. Highly recommended!\n",
            "Named Entities:\n",
            " - the Samsung Galaxy S21 (ORG)\n",
            "Sentiment: Positive\n",
            "\n",
            "Review: The Apple AirPods Max are overpriced and uncomfortable.\n",
            "Named Entities:\n",
            "Sentiment: Negative\n",
            "\n",
            "Review: I recently bought the Sony WH-1000XM5 and the sound quality is amazing.\n",
            "Named Entities:\n",
            " - Sony (ORG)\n",
            "Sentiment: Positive\n",
            "\n",
            "Review: The Lenovo ThinkPad is decent, but the display isn't sharp.\n",
            "Named Entities:\n",
            " - Lenovo (ORG)\n",
            "Sentiment: Mixed\n",
            "\n",
            "Review: Avoid the cheap knockoffs of JBL speakers. Poor sound quality.\n",
            "Named Entities:\n",
            " - JBL (ORG)\n",
            "Sentiment: Negative\n"
          ]
        }
      ]
    }
  ]
}